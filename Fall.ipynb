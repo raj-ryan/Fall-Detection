{
  "nbformat": 4,
  "nbformat_minor": 0,
  "metadata": {
    "colab": {
      "provenance": [],
      "gpuType": "T4"
    },
    "kernelspec": {
      "name": "python3",
      "display_name": "Python 3"
    },
    "language_info": {
      "name": "python"
    },
    "accelerator": "GPU"
  },
  "cells": [
    {
      "cell_type": "code",
      "execution_count": 23,
      "metadata": {
        "colab": {
          "base_uri": "https://localhost:8080/",
          "height": 356
        },
        "id": "BMibn8dOrgv-",
        "outputId": "08660ed6-21d6-4132-ac48-c9cc1a57c0d9"
      },
      "outputs": [
        {
          "output_type": "error",
          "ename": "NotImplementedError",
          "evalue": "A UTF-8 locale is required. Got ANSI_X3.4-1968",
          "traceback": [
            "\u001b[0;31m---------------------------------------------------------------------------\u001b[0m",
            "\u001b[0;31mNotImplementedError\u001b[0m                       Traceback (most recent call last)",
            "\u001b[0;32m<ipython-input-23-09cf6a6649e9>\u001b[0m in \u001b[0;36m<cell line: 1>\u001b[0;34m()\u001b[0m\n\u001b[0;32m----> 1\u001b[0;31m \u001b[0mget_ipython\u001b[0m\u001b[0;34m(\u001b[0m\u001b[0;34m)\u001b[0m\u001b[0;34m.\u001b[0m\u001b[0msystem\u001b[0m\u001b[0;34m(\u001b[0m\u001b[0;34m'py -3.10 -m venv myvenv'\u001b[0m\u001b[0;34m)\u001b[0m\u001b[0;34m\u001b[0m\u001b[0;34m\u001b[0m\u001b[0m\n\u001b[0m\u001b[1;32m      2\u001b[0m \u001b[0mget_ipython\u001b[0m\u001b[0;34m(\u001b[0m\u001b[0;34m)\u001b[0m\u001b[0;34m.\u001b[0m\u001b[0msystem\u001b[0m\u001b[0;34m(\u001b[0m\u001b[0;34m'myvenv\\\\Scripts\\\\activate'\u001b[0m\u001b[0;34m)\u001b[0m\u001b[0;34m\u001b[0m\u001b[0;34m\u001b[0m\u001b[0m\n\u001b[1;32m      3\u001b[0m \u001b[0;34m\u001b[0m\u001b[0m\n\u001b[1;32m      4\u001b[0m \u001b[0mget_ipython\u001b[0m\u001b[0;34m(\u001b[0m\u001b[0;34m)\u001b[0m\u001b[0;34m.\u001b[0m\u001b[0msystem\u001b[0m\u001b[0;34m(\u001b[0m\u001b[0;34m'pip install imutils'\u001b[0m\u001b[0;34m)\u001b[0m\u001b[0;34m\u001b[0m\u001b[0;34m\u001b[0m\u001b[0m\n\u001b[1;32m      5\u001b[0m \u001b[0mget_ipython\u001b[0m\u001b[0;34m(\u001b[0m\u001b[0;34m)\u001b[0m\u001b[0;34m.\u001b[0m\u001b[0msystem\u001b[0m\u001b[0;34m(\u001b[0m\u001b[0;34m'pip install roboflow'\u001b[0m\u001b[0;34m)\u001b[0m\u001b[0;34m\u001b[0m\u001b[0;34m\u001b[0m\u001b[0m\n",
            "\u001b[0;32m/usr/local/lib/python3.10/dist-packages/google/colab/_shell.py\u001b[0m in \u001b[0;36msystem\u001b[0;34m(self, *args, **kwargs)\u001b[0m\n\u001b[1;32m     97\u001b[0m       \u001b[0mkwargs\u001b[0m\u001b[0;34m.\u001b[0m\u001b[0mupdate\u001b[0m\u001b[0;34m(\u001b[0m\u001b[0;34m{\u001b[0m\u001b[0;34m'also_return_output'\u001b[0m\u001b[0;34m:\u001b[0m \u001b[0;32mTrue\u001b[0m\u001b[0;34m}\u001b[0m\u001b[0;34m)\u001b[0m\u001b[0;34m\u001b[0m\u001b[0;34m\u001b[0m\u001b[0m\n\u001b[1;32m     98\u001b[0m \u001b[0;34m\u001b[0m\u001b[0m\n\u001b[0;32m---> 99\u001b[0;31m     \u001b[0moutput\u001b[0m \u001b[0;34m=\u001b[0m \u001b[0m_system_commands\u001b[0m\u001b[0;34m.\u001b[0m\u001b[0m_system_compat\u001b[0m\u001b[0;34m(\u001b[0m\u001b[0mself\u001b[0m\u001b[0;34m,\u001b[0m \u001b[0;34m*\u001b[0m\u001b[0margs\u001b[0m\u001b[0;34m,\u001b[0m \u001b[0;34m**\u001b[0m\u001b[0mkwargs\u001b[0m\u001b[0;34m)\u001b[0m  \u001b[0;31m# pylint:disable=protected-access\u001b[0m\u001b[0;34m\u001b[0m\u001b[0;34m\u001b[0m\u001b[0m\n\u001b[0m\u001b[1;32m    100\u001b[0m \u001b[0;34m\u001b[0m\u001b[0m\n\u001b[1;32m    101\u001b[0m     \u001b[0;32mif\u001b[0m \u001b[0mpip_warn\u001b[0m\u001b[0;34m:\u001b[0m\u001b[0;34m\u001b[0m\u001b[0;34m\u001b[0m\u001b[0m\n",
            "\u001b[0;32m/usr/local/lib/python3.10/dist-packages/google/colab/_system_commands.py\u001b[0m in \u001b[0;36m_system_compat\u001b[0;34m(shell, cmd, also_return_output)\u001b[0m\n\u001b[1;32m    452\u001b[0m   \u001b[0;31m# is expected to call this function, thus adding one level of nesting to the\u001b[0m\u001b[0;34m\u001b[0m\u001b[0;34m\u001b[0m\u001b[0m\n\u001b[1;32m    453\u001b[0m   \u001b[0;31m# stack.\u001b[0m\u001b[0;34m\u001b[0m\u001b[0;34m\u001b[0m\u001b[0m\n\u001b[0;32m--> 454\u001b[0;31m   result = _run_command(\n\u001b[0m\u001b[1;32m    455\u001b[0m       \u001b[0mshell\u001b[0m\u001b[0;34m.\u001b[0m\u001b[0mvar_expand\u001b[0m\u001b[0;34m(\u001b[0m\u001b[0mcmd\u001b[0m\u001b[0;34m,\u001b[0m \u001b[0mdepth\u001b[0m\u001b[0;34m=\u001b[0m\u001b[0;36m2\u001b[0m\u001b[0;34m)\u001b[0m\u001b[0;34m,\u001b[0m \u001b[0mclear_streamed_output\u001b[0m\u001b[0;34m=\u001b[0m\u001b[0;32mFalse\u001b[0m\u001b[0;34m\u001b[0m\u001b[0;34m\u001b[0m\u001b[0m\n\u001b[1;32m    456\u001b[0m   )\n",
            "\u001b[0;32m/usr/local/lib/python3.10/dist-packages/google/colab/_system_commands.py\u001b[0m in \u001b[0;36m_run_command\u001b[0;34m(cmd, clear_streamed_output)\u001b[0m\n\u001b[1;32m    166\u001b[0m     \u001b[0mlocale_encoding\u001b[0m \u001b[0;34m=\u001b[0m \u001b[0mlocale\u001b[0m\u001b[0;34m.\u001b[0m\u001b[0mgetpreferredencoding\u001b[0m\u001b[0;34m(\u001b[0m\u001b[0;34m)\u001b[0m\u001b[0;34m\u001b[0m\u001b[0;34m\u001b[0m\u001b[0m\n\u001b[1;32m    167\u001b[0m     \u001b[0;32mif\u001b[0m \u001b[0mlocale_encoding\u001b[0m \u001b[0;34m!=\u001b[0m \u001b[0m_ENCODING\u001b[0m\u001b[0;34m:\u001b[0m\u001b[0;34m\u001b[0m\u001b[0;34m\u001b[0m\u001b[0m\n\u001b[0;32m--> 168\u001b[0;31m       raise NotImplementedError(\n\u001b[0m\u001b[1;32m    169\u001b[0m           \u001b[0;34m'A UTF-8 locale is required. Got {}'\u001b[0m\u001b[0;34m.\u001b[0m\u001b[0mformat\u001b[0m\u001b[0;34m(\u001b[0m\u001b[0mlocale_encoding\u001b[0m\u001b[0;34m)\u001b[0m\u001b[0;34m\u001b[0m\u001b[0;34m\u001b[0m\u001b[0m\n\u001b[1;32m    170\u001b[0m       )\n",
            "\u001b[0;31mNotImplementedError\u001b[0m: A UTF-8 locale is required. Got ANSI_X3.4-1968"
          ]
        }
      ],
      "source": [
        "!py -3.10 -m venv myvenv\n",
        "!myvenv\\Scripts\\activate\n",
        "\n",
        "!pip install imutils\n",
        "!pip install roboflow\n",
        "!pip install pytube --upgrade"
      ]
    },
    {
      "cell_type": "code",
      "source": [],
      "metadata": {
        "id": "r3qIHM9uxD69"
      },
      "execution_count": null,
      "outputs": []
    },
    {
      "cell_type": "code",
      "source": [
        "import torch\n",
        "torch.__version__"
      ],
      "metadata": {
        "id": "dShS5rm7s9rx"
      },
      "execution_count": null,
      "outputs": []
    },
    {
      "cell_type": "code",
      "source": [
        "import torch\n",
        "torch.cuda.get_device_name(0)"
      ],
      "metadata": {
        "id": "EiPBAsVttEbd"
      },
      "execution_count": null,
      "outputs": []
    },
    {
      "cell_type": "code",
      "source": [
        "!pip install super-gradients\n",
        "from super_gradients.training import models\n",
        "\n",
        "yolo_nas_l = models.get(\"yolo_nas_l\", pretrained_weights=\"coco\")"
      ],
      "metadata": {
        "id": "8fUy10MftIvC"
      },
      "execution_count": null,
      "outputs": []
    },
    {
      "cell_type": "code",
      "source": [
        "url = \"https://previews.123rf.com/images/freeograph/freeograph2011/freeograph201100150/158301822-group-of-friends-gathering-around-table-at-home.jpg\"\n",
        "yolo_nas_l.predict(url, conf=0.25).show()"
      ],
      "metadata": {
        "id": "FPF5A5d1uqhS"
      },
      "execution_count": null,
      "outputs": []
    },
    {
      "cell_type": "code",
      "source": [
        "import torch\n",
        "device = 'cuda' if torch.cuda.is_available() else \"cpu\""
      ],
      "metadata": {
        "id": "s3FuM3oluvmF"
      },
      "execution_count": null,
      "outputs": []
    },
    {
      "cell_type": "code",
      "source": [
        "from google.colab import files\n",
        "uploaded = files.upload()"
      ],
      "metadata": {
        "id": "SrB6reBFuyfy"
      },
      "execution_count": null,
      "outputs": []
    },
    {
      "cell_type": "code",
      "source": [],
      "metadata": {
        "id": "arv_DtiUzC99"
      },
      "execution_count": null,
      "outputs": []
    },
    {
      "cell_type": "code",
      "source": [
        "for fn in uploaded.keys():\n",
        "  print('User uploaded file \"{name}\" with length {length} bytes'.format(\n",
        "      name='fall_detection_1.mp4', length=len(uploaded['fall_detection_3.mp4'])))"
      ],
      "metadata": {
        "id": "KfeYuqxyxGvp"
      },
      "execution_count": null,
      "outputs": []
    },
    {
      "cell_type": "code",
      "source": [
        "input_video_path = \"fall_detection_4.mp4\"\n",
        "output_video_path = \"detections.mp4\"\n",
        "device=0\n",
        "\n",
        "yolo_nas_l.to(device).predict(input_video_path).save(output_video_path)"
      ],
      "metadata": {
        "id": "MCNJBG-ZzEFY"
      },
      "execution_count": null,
      "outputs": []
    },
    {
      "cell_type": "code",
      "source": [
        "from super_gradients.training import Trainer\n",
        "\n",
        "CHECKPOINT_DIR = 'checkpoints'\n",
        "trainer = Trainer(experiment_name='my_first_yolonas_run', ckpt_root_dir=CHECKPOINT_DIR)"
      ],
      "metadata": {
        "id": "xI-077_o25zH"
      },
      "execution_count": null,
      "outputs": []
    },
    {
      "cell_type": "code",
      "source": [
        "from super_gradients.training import dataloaders\n",
        "from super_gradients.training.dataloaders.dataloaders import coco_detection_yolo_format_train, coco_detection_yolo_format_val"
      ],
      "metadata": {
        "id": "xngCWRKU3EuT"
      },
      "execution_count": null,
      "outputs": []
    },
    {
      "cell_type": "code",
      "source": [],
      "metadata": {
        "id": "M9oqxy2V3Rfk"
      },
      "execution_count": null,
      "outputs": []
    },
    {
      "cell_type": "code",
      "source": [
        "dataset_params = {\n",
        "    'data_dir':'drive/MyDrive/FallDetection1',\n",
        "    'train_images_dir':'train/images',\n",
        "    'train_labels_dir':'train/labels',\n",
        "    'val_images_dir':'val/images',\n",
        "    'val_labels_dir':'val/labels',\n",
        "    'test_images_dir':'test/images',\n",
        "    'test_labels_dir':'test/labels',\n",
        "    'classes': ['Fall-Detected','Walking', 'Sitting']\n",
        "}"
      ],
      "metadata": {
        "id": "0_qlsH7v6iZC"
      },
      "execution_count": null,
      "outputs": []
    },
    {
      "cell_type": "code",
      "source": [
        "from IPython.display import clear_output\n",
        "\n",
        "train_data = coco_detection_yolo_format_train(\n",
        "    dataset_params={\n",
        "        'data_dir': dataset_params['data_dir'],\n",
        "        'images_dir': dataset_params['train_images_dir'],\n",
        "        'labels_dir': dataset_params['train_labels_dir'],\n",
        "        'classes': dataset_params['classes']\n",
        "    },\n",
        "    dataloader_params={\n",
        "        'batch_size':16,\n",
        "        'num_workers':2\n",
        "    }\n",
        ")\n",
        "\n",
        "val_data = coco_detection_yolo_format_val(\n",
        "    dataset_params={\n",
        "        'data_dir': dataset_params['data_dir'],\n",
        "        'images_dir': dataset_params['val_images_dir'],\n",
        "        'labels_dir': dataset_params['val_labels_dir'],\n",
        "        'classes': dataset_params['classes']\n",
        "    },\n",
        "    dataloader_params={\n",
        "        'batch_size':16,\n",
        "        'num_workers':2\n",
        "    }\n",
        ")\n",
        "test_data = coco_detection_yolo_format_val(\n",
        "    dataset_params={\n",
        "        'data_dir': dataset_params['data_dir'],\n",
        "        'images_dir': dataset_params['test_images_dir'],\n",
        "        'labels_dir': dataset_params['test_labels_dir'],\n",
        "        'classes': dataset_params['classes']\n",
        "    },\n",
        "    dataloader_params={\n",
        "        'batch_size':16,\n",
        "        'num_workers':2\n",
        "    }\n",
        ")\n",
        "\n",
        "clear_output()"
      ],
      "metadata": {
        "id": "a8FzRmAF9d0I"
      },
      "execution_count": null,
      "outputs": []
    },
    {
      "cell_type": "code",
      "source": [
        "train_data.dataset.transforms"
      ],
      "metadata": {
        "id": "QfuA3Fd294pX"
      },
      "execution_count": null,
      "outputs": []
    },
    {
      "cell_type": "code",
      "source": [
        "# train_data.dataset.dataset_params['transforms'][1]['DetectionRandomAffine']['degrees'] = 10.42"
      ],
      "metadata": {
        "id": "SgbKqKVp96kV"
      },
      "execution_count": null,
      "outputs": []
    },
    {
      "cell_type": "code",
      "source": [
        "train_data.dataset.plot()"
      ],
      "metadata": {
        "id": "Nke8I0qT-COP"
      },
      "execution_count": null,
      "outputs": []
    },
    {
      "cell_type": "code",
      "source": [
        "from super_gradients.training import models\n",
        "model = models.get('yolo_nas_l',\n",
        "                   num_classes=len(dataset_params['classes']),\n",
        "                   pretrained_weights=\"coco\"\n",
        "                   )"
      ],
      "metadata": {
        "id": "xJ-KP8h0-NE_",
        "colab": {
          "base_uri": "https://localhost:8080/"
        },
        "outputId": "3cf4615b-e794-4c4a-b52b-dc5e6485bbc7"
      },
      "execution_count": null,
      "outputs": [
        {
          "output_type": "stream",
          "name": "stderr",
          "text": [
            "[2023-12-11 10:20:42] INFO - checkpoint_utils.py - License Notification: YOLO-NAS pre-trained weights are subjected to the specific license terms and conditions detailed in \n",
            "https://github.com/Deci-AI/super-gradients/blob/master/LICENSE.YOLONAS.md\n",
            "By downloading the pre-trained weight files you agree to comply with these terms.\n",
            "[2023-12-11 10:20:44] INFO - checkpoint_utils.py - Successfully loaded pretrained weights for architecture yolo_nas_l\n"
          ]
        }
      ]
    },
    {
      "cell_type": "code",
      "source": [
        "from super_gradients.training.losses import PPYoloELoss\n",
        "from super_gradients.training.metrics import DetectionMetrics_050\n",
        "from super_gradients.training.models.detection_models.pp_yolo_e import PPYoloEPostPredictionCallback\n",
        "\n",
        "train_params = {\n",
        "    'silent_mode': False,\n",
        "    \"average_best_models\":True,\n",
        "    \"warmup_mode\": \"linear_epoch_step\",\n",
        "    \"warmup_initial_lr\": 1e-6,\n",
        "    \"lr_warmup_epochs\": 3,\n",
        "    \"initial_lr\": 5e-4,\n",
        "    \"lr_mode\": \"cosine\",\n",
        "    \"cosine_final_lr_ratio\": 0.1,\n",
        "    \"optimizer\": \"Adam\",\n",
        "    \"optimizer_params\": {\"weight_decay\": 0.0001},\n",
        "    \"zero_weight_decay_on_bias_and_bn\": True,\n",
        "    \"ema\": True,\n",
        "    \"ema_params\": {\"decay\": 0.9, \"decay_type\": \"threshold\"},\n",
        "    # ONLY TRAINING FOR 10 EPOCHS FOR THIS EXAMPLE NOTEBOOK\n",
        "    \"max_epochs\": 10,\n",
        "    \"mixed_precision\": True,\n",
        "    \"loss\": PPYoloELoss(\n",
        "        use_static_assigner=False,\n",
        "        # NOTE: num_classes needs to be defined here\n",
        "        num_classes=len(dataset_params['classes']),\n",
        "        reg_max=16\n",
        "    ),\n",
        "    \"valid_metrics_list\": [\n",
        "        DetectionMetrics_050(\n",
        "            score_thres=0.1,\n",
        "            top_k_predictions=300,\n",
        "            # NOTE: num_classes needs to be defined here\n",
        "            num_cls=len(dataset_params['classes']),\n",
        "            normalize_targets=True,\n",
        "            post_prediction_callback=PPYoloEPostPredictionCallback(\n",
        "                score_threshold=0.01,\n",
        "                nms_top_k=1000,\n",
        "                max_predictions=300,\n",
        "                nms_threshold=0.7\n",
        "            )\n",
        "        )\n",
        "    ],\n",
        "    \"metric_to_watch\": 'mAP@0.50'\n",
        "}"
      ],
      "metadata": {
        "id": "c-JmXT4g-CXZ"
      },
      "execution_count": null,
      "outputs": []
    },
    {
      "cell_type": "code",
      "source": [
        "trainer.train(model=model,\n",
        "              training_params=train_params,\n",
        "              train_loader=train_data,\n",
        "              valid_loader=val_data)"
      ],
      "metadata": {
        "id": "grfhMotX-b1l",
        "colab": {
          "base_uri": "https://localhost:8080/"
        },
        "outputId": "bc9e03d1-5ea8-4f3b-a214-8f2c17ef4355"
      },
      "execution_count": null,
      "outputs": [
        {
          "output_type": "stream",
          "name": "stderr",
          "text": [
            "[2023-12-11 10:20:50] INFO - sg_trainer.py - Starting a new run with `run_id=RUN_20231211_102050_690038`\n",
            "[2023-12-11 10:20:50] INFO - sg_trainer.py - Checkpoints directory: checkpoints/my_first_yolonas_run/RUN_20231211_102050_690038\n",
            "[2023-12-11 10:20:50] INFO - sg_trainer.py - Using EMA with params {'decay': 0.9, 'decay_type': 'threshold'}\n"
          ]
        },
        {
          "output_type": "stream",
          "name": "stdout",
          "text": [
            "The console stream is now moved to checkpoints/my_first_yolonas_run/RUN_20231211_102050_690038/console_Dec11_10_20_50.txt\n"
          ]
        },
        {
          "output_type": "stream",
          "name": "stderr",
          "text": [
            "/usr/local/lib/python3.10/dist-packages/super_gradients/common/registry/registry.py:72: DeprecationWarning: Object name `linear_epoch_step` is now deprecated. Please replace it with `LinearEpochLRWarmup`.\n",
            "  warnings.warn(f\"Object name `{name}` is now deprecated. Please replace it with `{deprecated_names[name]}`.\", DeprecationWarning)\n",
            "/usr/local/lib/python3.10/dist-packages/super_gradients/training/utils/optimizer_utils.py:107: DeprecationWarning: initialize_param_groups and update_param_groups usages are deprecated since 3.4.0, will be removed in 3.5.0 and have no effect. \n",
            " Assign different learning rates by passing a mapping of layer name prefixes to lr values through initial_lr training hyperparameter (i.e initial_lr={'backbone': 0.01, 'default':0.1})\n",
            "  warnings.warn(\n",
            "[2023-12-11 10:20:55] INFO - sg_trainer_utils.py - TRAINING PARAMETERS:\n",
            "    - Mode:                         Single GPU\n",
            "    - Number of GPUs:               1          (1 available on the machine)\n",
            "    - Full dataset size:            374        (len(train_set))\n",
            "    - Batch size per GPU:           16         (batch_size)\n",
            "    - Batch Accumulate:             1          (batch_accumulate)\n",
            "    - Total batch size:             16         (num_gpus * batch_size)\n",
            "    - Effective Batch size:         16         (num_gpus * batch_size * batch_accumulate)\n",
            "    - Iterations per epoch:         23         (len(train_loader))\n",
            "    - Gradient updates per epoch:   23         (len(train_loader) / batch_accumulate)\n",
            "    - Model: YoloNAS_L  (66.91M parameters, 66.91M optimized)\n",
            "    - Learning Rates and Weight Decays:\n",
            "      - default: (66.91M parameters). LR: 0.0005 (66.91M parameters) WD: 0.0, (84.69K parameters), WD: 0.0001, (66.82M parameters)\n",
            "\n",
            "[2023-12-11 10:20:55] INFO - sg_trainer.py - Started training for 10 epochs (0/9)\n",
            "\n",
            "Train epoch 0: 100%|██████████| 23/23 [00:34<00:00,  1.50s/it, PPYoloELoss/loss=3.57, PPYoloELoss/loss_cls=2.23, PPYoloELoss/loss_dfl=0.739, PPYoloELoss/loss_iou=0.596, gpu_mem=13.3]\n",
            "Validating: 100%|██████████| 2/2 [00:01<00:00,  1.08it/s]\n",
            "[2023-12-11 10:21:56] INFO - base_sg_logger.py - Checkpoint saved in checkpoints/my_first_yolonas_run/RUN_20231211_102050_690038/ckpt_best.pth\n",
            "[2023-12-11 10:21:56] INFO - sg_trainer.py - Best checkpoint overriden: validation mAP@0.50: 0.11501628160476685\n"
          ]
        },
        {
          "output_type": "stream",
          "name": "stdout",
          "text": [
            "===========================================================\n",
            "SUMMARY OF EPOCH 0\n",
            "├── Train\n",
            "│   ├── Ppyoloeloss/loss_cls = 2.2309\n",
            "│   ├── Ppyoloeloss/loss_iou = 0.5959\n",
            "│   ├── Ppyoloeloss/loss_dfl = 0.7393\n",
            "│   └── Ppyoloeloss/loss = 3.5661\n",
            "└── Validation\n",
            "    ├── Ppyoloeloss/loss_cls = 2.5579\n",
            "    ├── Ppyoloeloss/loss_iou = 0.3913\n",
            "    ├── Ppyoloeloss/loss_dfl = 0.5877\n",
            "    ├── Ppyoloeloss/loss = 3.5369\n",
            "    ├── Precision@0.50 = 0.0\n",
            "    ├── Recall@0.50 = 0.0\n",
            "    ├── Map@0.50 = 0.115\n",
            "    └── F1@0.50 = 0.0\n",
            "\n",
            "===========================================================\n"
          ]
        },
        {
          "output_type": "stream",
          "name": "stderr",
          "text": [
            "Train epoch 1: 100%|██████████| 23/23 [00:35<00:00,  1.54s/it, PPYoloELoss/loss=2.75, PPYoloELoss/loss_cls=1.54, PPYoloELoss/loss_dfl=0.701, PPYoloELoss/loss_iou=0.51, gpu_mem=13.7]\n",
            "Validating epoch 1: 100%|██████████| 2/2 [00:01<00:00,  1.16it/s]\n",
            "[2023-12-11 10:23:08] INFO - base_sg_logger.py - Checkpoint saved in checkpoints/my_first_yolonas_run/RUN_20231211_102050_690038/ckpt_best.pth\n",
            "[2023-12-11 10:23:08] INFO - sg_trainer.py - Best checkpoint overriden: validation mAP@0.50: 0.1699979454278946\n"
          ]
        },
        {
          "output_type": "stream",
          "name": "stdout",
          "text": [
            "===========================================================\n",
            "SUMMARY OF EPOCH 1\n",
            "├── Train\n",
            "│   ├── Ppyoloeloss/loss_cls = 1.5355\n",
            "│   │   ├── Epoch N-1      = 2.2309 (\u001b[32m↘ -0.6954\u001b[0m)\n",
            "│   │   └── Best until now = 2.2309 (\u001b[32m↘ -0.6954\u001b[0m)\n",
            "│   ├── Ppyoloeloss/loss_iou = 0.5104\n",
            "│   │   ├── Epoch N-1      = 0.5959 (\u001b[32m↘ -0.0855\u001b[0m)\n",
            "│   │   └── Best until now = 0.5959 (\u001b[32m↘ -0.0855\u001b[0m)\n",
            "│   ├── Ppyoloeloss/loss_dfl = 0.7009\n",
            "│   │   ├── Epoch N-1      = 0.7393 (\u001b[32m↘ -0.0384\u001b[0m)\n",
            "│   │   └── Best until now = 0.7393 (\u001b[32m↘ -0.0384\u001b[0m)\n",
            "│   └── Ppyoloeloss/loss = 2.7468\n",
            "│       ├── Epoch N-1      = 3.5661 (\u001b[32m↘ -0.8193\u001b[0m)\n",
            "│       └── Best until now = 3.5661 (\u001b[32m↘ -0.8193\u001b[0m)\n",
            "└── Validation\n",
            "    ├── Ppyoloeloss/loss_cls = 26.4505\n",
            "    │   ├── Epoch N-1      = 2.5579 (\u001b[31m↗ 23.8926\u001b[0m)\n",
            "    │   └── Best until now = 2.5579 (\u001b[31m↗ 23.8926\u001b[0m)\n",
            "    ├── Ppyoloeloss/loss_iou = 0.5571\n",
            "    │   ├── Epoch N-1      = 0.3913 (\u001b[31m↗ 0.1659\u001b[0m)\n",
            "    │   └── Best until now = 0.3913 (\u001b[31m↗ 0.1659\u001b[0m)\n",
            "    ├── Ppyoloeloss/loss_dfl = 0.7817\n",
            "    │   ├── Epoch N-1      = 0.5877 (\u001b[31m↗ 0.194\u001b[0m)\n",
            "    │   └── Best until now = 0.5877 (\u001b[31m↗ 0.194\u001b[0m)\n",
            "    ├── Ppyoloeloss/loss = 27.7894\n",
            "    │   ├── Epoch N-1      = 3.5369 (\u001b[31m↗ 24.2524\u001b[0m)\n",
            "    │   └── Best until now = 3.5369 (\u001b[31m↗ 24.2524\u001b[0m)\n",
            "    ├── Precision@0.50 = 0.0052\n",
            "    │   ├── Epoch N-1      = 0.0    (\u001b[32m↗ 0.0052\u001b[0m)\n",
            "    │   └── Best until now = 0.0    (\u001b[32m↗ 0.0052\u001b[0m)\n",
            "    ├── Recall@0.50 = 0.9722\n",
            "    │   ├── Epoch N-1      = 0.0    (\u001b[32m↗ 0.9722\u001b[0m)\n",
            "    │   └── Best until now = 0.0    (\u001b[32m↗ 0.9722\u001b[0m)\n",
            "    ├── Map@0.50 = 0.17\n",
            "    │   ├── Epoch N-1      = 0.115  (\u001b[32m↗ 0.055\u001b[0m)\n",
            "    │   └── Best until now = 0.115  (\u001b[32m↗ 0.055\u001b[0m)\n",
            "    └── F1@0.50 = 0.0103\n",
            "        ├── Epoch N-1      = 0.0    (\u001b[32m↗ 0.0103\u001b[0m)\n",
            "        └── Best until now = 0.0    (\u001b[32m↗ 0.0103\u001b[0m)\n",
            "\n",
            "===========================================================\n"
          ]
        },
        {
          "output_type": "stream",
          "name": "stderr",
          "text": [
            "Train epoch 2: 100%|██████████| 23/23 [00:34<00:00,  1.48s/it, PPYoloELoss/loss=2.52, PPYoloELoss/loss_cls=1.25, PPYoloELoss/loss_dfl=0.72, PPYoloELoss/loss_iou=0.55, gpu_mem=13.9]\n",
            "Validating epoch 2: 100%|██████████| 2/2 [00:02<00:00,  1.20s/it]\n"
          ]
        },
        {
          "output_type": "stream",
          "name": "stdout",
          "text": [
            "===========================================================\n",
            "SUMMARY OF EPOCH 2\n",
            "├── Train\n",
            "│   ├── Ppyoloeloss/loss_cls = 1.2472\n",
            "│   │   ├── Epoch N-1      = 1.5355 (\u001b[32m↘ -0.2883\u001b[0m)\n",
            "│   │   └── Best until now = 1.5355 (\u001b[32m↘ -0.2883\u001b[0m)\n",
            "│   ├── Ppyoloeloss/loss_iou = 0.5499\n",
            "│   │   ├── Epoch N-1      = 0.5104 (\u001b[31m↗ 0.0395\u001b[0m)\n",
            "│   │   └── Best until now = 0.5104 (\u001b[31m↗ 0.0395\u001b[0m)\n",
            "│   ├── Ppyoloeloss/loss_dfl = 0.7202\n",
            "│   │   ├── Epoch N-1      = 0.7009 (\u001b[31m↗ 0.0193\u001b[0m)\n",
            "│   │   └── Best until now = 0.7009 (\u001b[31m↗ 0.0193\u001b[0m)\n",
            "│   └── Ppyoloeloss/loss = 2.5173\n",
            "│       ├── Epoch N-1      = 2.7468 (\u001b[32m↘ -0.2295\u001b[0m)\n",
            "│       └── Best until now = 2.7468 (\u001b[32m↘ -0.2295\u001b[0m)\n",
            "└── Validation\n",
            "    ├── Ppyoloeloss/loss_cls = 12.7057\n",
            "    │   ├── Epoch N-1      = 26.4505 (\u001b[32m↘ -13.7448\u001b[0m)\n",
            "    │   └── Best until now = 2.5579 (\u001b[31m↗ 10.1478\u001b[0m)\n",
            "    ├── Ppyoloeloss/loss_iou = 0.6734\n",
            "    │   ├── Epoch N-1      = 0.5571 (\u001b[31m↗ 0.1162\u001b[0m)\n",
            "    │   └── Best until now = 0.3913 (\u001b[31m↗ 0.2821\u001b[0m)\n",
            "    ├── Ppyoloeloss/loss_dfl = 0.8556\n",
            "    │   ├── Epoch N-1      = 0.7817 (\u001b[31m↗ 0.0739\u001b[0m)\n",
            "    │   └── Best until now = 0.5877 (\u001b[31m↗ 0.2679\u001b[0m)\n",
            "    ├── Ppyoloeloss/loss = 14.2347\n",
            "    │   ├── Epoch N-1      = 27.7894 (\u001b[32m↘ -13.5547\u001b[0m)\n",
            "    │   └── Best until now = 3.5369 (\u001b[31m↗ 10.6978\u001b[0m)\n",
            "    ├── Precision@0.50 = 0.0041\n",
            "    │   ├── Epoch N-1      = 0.0052 (\u001b[31m↘ -0.0011\u001b[0m)\n",
            "    │   └── Best until now = 0.0052 (\u001b[31m↘ -0.0011\u001b[0m)\n",
            "    ├── Recall@0.50 = 0.9167\n",
            "    │   ├── Epoch N-1      = 0.9722 (\u001b[31m↘ -0.0556\u001b[0m)\n",
            "    │   └── Best until now = 0.9722 (\u001b[31m↘ -0.0556\u001b[0m)\n",
            "    ├── Map@0.50 = 0.1021\n",
            "    │   ├── Epoch N-1      = 0.17   (\u001b[31m↘ -0.0679\u001b[0m)\n",
            "    │   └── Best until now = 0.17   (\u001b[31m↘ -0.0679\u001b[0m)\n",
            "    └── F1@0.50 = 0.0081\n",
            "        ├── Epoch N-1      = 0.0103 (\u001b[31m↘ -0.0022\u001b[0m)\n",
            "        └── Best until now = 0.0103 (\u001b[31m↘ -0.0022\u001b[0m)\n",
            "\n",
            "===========================================================\n"
          ]
        },
        {
          "output_type": "stream",
          "name": "stderr",
          "text": [
            "Train epoch 3: 100%|██████████| 23/23 [00:36<00:00,  1.58s/it, PPYoloELoss/loss=2.56, PPYoloELoss/loss_cls=1.25, PPYoloELoss/loss_dfl=0.739, PPYoloELoss/loss_iou=0.568, gpu_mem=13.9]\n",
            "Validating epoch 3: 100%|██████████| 2/2 [00:02<00:00,  1.26s/it]\n",
            "[2023-12-11 10:25:48] INFO - base_sg_logger.py - Checkpoint saved in checkpoints/my_first_yolonas_run/RUN_20231211_102050_690038/ckpt_best.pth\n",
            "[2023-12-11 10:25:48] INFO - sg_trainer.py - Best checkpoint overriden: validation mAP@0.50: 0.3190857768058777\n"
          ]
        },
        {
          "output_type": "stream",
          "name": "stdout",
          "text": [
            "===========================================================\n",
            "SUMMARY OF EPOCH 3\n",
            "├── Train\n",
            "│   ├── Ppyoloeloss/loss_cls = 1.2497\n",
            "│   │   ├── Epoch N-1      = 1.2472 (\u001b[31m↗ 0.0024\u001b[0m)\n",
            "│   │   └── Best until now = 1.2472 (\u001b[31m↗ 0.0024\u001b[0m)\n",
            "│   ├── Ppyoloeloss/loss_iou = 0.5678\n",
            "│   │   ├── Epoch N-1      = 0.5499 (\u001b[31m↗ 0.0179\u001b[0m)\n",
            "│   │   └── Best until now = 0.5104 (\u001b[31m↗ 0.0574\u001b[0m)\n",
            "│   ├── Ppyoloeloss/loss_dfl = 0.7389\n",
            "│   │   ├── Epoch N-1      = 0.7202 (\u001b[31m↗ 0.0187\u001b[0m)\n",
            "│   │   └── Best until now = 0.7009 (\u001b[31m↗ 0.038\u001b[0m)\n",
            "│   └── Ppyoloeloss/loss = 2.5564\n",
            "│       ├── Epoch N-1      = 2.5173 (\u001b[31m↗ 0.0391\u001b[0m)\n",
            "│       └── Best until now = 2.5173 (\u001b[31m↗ 0.0391\u001b[0m)\n",
            "└── Validation\n",
            "    ├── Ppyoloeloss/loss_cls = 5.9694\n",
            "    │   ├── Epoch N-1      = 12.7057 (\u001b[32m↘ -6.7363\u001b[0m)\n",
            "    │   └── Best until now = 2.5579 (\u001b[31m↗ 3.4115\u001b[0m)\n",
            "    ├── Ppyoloeloss/loss_iou = 0.5611\n",
            "    │   ├── Epoch N-1      = 0.6734 (\u001b[32m↘ -0.1123\u001b[0m)\n",
            "    │   └── Best until now = 0.3913 (\u001b[31m↗ 0.1698\u001b[0m)\n",
            "    ├── Ppyoloeloss/loss_dfl = 0.7755\n",
            "    │   ├── Epoch N-1      = 0.8556 (\u001b[32m↘ -0.0801\u001b[0m)\n",
            "    │   └── Best until now = 0.5877 (\u001b[31m↗ 0.1878\u001b[0m)\n",
            "    ├── Ppyoloeloss/loss = 7.306\n",
            "    │   ├── Epoch N-1      = 14.2347 (\u001b[32m↘ -6.9286\u001b[0m)\n",
            "    │   └── Best until now = 3.5369 (\u001b[31m↗ 3.7691\u001b[0m)\n",
            "    ├── Precision@0.50 = 0.0059\n",
            "    │   ├── Epoch N-1      = 0.0041 (\u001b[32m↗ 0.0018\u001b[0m)\n",
            "    │   └── Best until now = 0.0052 (\u001b[32m↗ 0.0007\u001b[0m)\n",
            "    ├── Recall@0.50 = 0.9167\n",
            "    │   ├── Epoch N-1      = 0.9167 (\u001b[37m= 0.0\u001b[0m)\n",
            "    │   └── Best until now = 0.9722 (\u001b[31m↘ -0.0556\u001b[0m)\n",
            "    ├── Map@0.50 = 0.3191\n",
            "    │   ├── Epoch N-1      = 0.1021 (\u001b[32m↗ 0.217\u001b[0m)\n",
            "    │   └── Best until now = 0.17   (\u001b[32m↗ 0.1491\u001b[0m)\n",
            "    └── F1@0.50 = 0.0117\n",
            "        ├── Epoch N-1      = 0.0081 (\u001b[32m↗ 0.0036\u001b[0m)\n",
            "        └── Best until now = 0.0103 (\u001b[32m↗ 0.0014\u001b[0m)\n",
            "\n",
            "===========================================================\n"
          ]
        },
        {
          "output_type": "stream",
          "name": "stderr",
          "text": [
            "Train epoch 4: 100%|██████████| 23/23 [00:34<00:00,  1.52s/it, PPYoloELoss/loss=2.59, PPYoloELoss/loss_cls=1.26, PPYoloELoss/loss_dfl=0.749, PPYoloELoss/loss_iou=0.583, gpu_mem=13.8]\n",
            "Validating epoch 4: 100%|██████████| 2/2 [00:02<00:00,  1.05s/it]\n"
          ]
        },
        {
          "output_type": "stream",
          "name": "stdout",
          "text": [
            "===========================================================\n",
            "SUMMARY OF EPOCH 4\n",
            "├── Train\n",
            "│   ├── Ppyoloeloss/loss_cls = 1.2569\n",
            "│   │   ├── Epoch N-1      = 1.2497 (\u001b[31m↗ 0.0072\u001b[0m)\n",
            "│   │   └── Best until now = 1.2472 (\u001b[31m↗ 0.0096\u001b[0m)\n",
            "│   ├── Ppyoloeloss/loss_iou = 0.5831\n",
            "│   │   ├── Epoch N-1      = 0.5678 (\u001b[31m↗ 0.0153\u001b[0m)\n",
            "│   │   └── Best until now = 0.5104 (\u001b[31m↗ 0.0727\u001b[0m)\n",
            "│   ├── Ppyoloeloss/loss_dfl = 0.7486\n",
            "│   │   ├── Epoch N-1      = 0.7389 (\u001b[31m↗ 0.0097\u001b[0m)\n",
            "│   │   └── Best until now = 0.7009 (\u001b[31m↗ 0.0477\u001b[0m)\n",
            "│   └── Ppyoloeloss/loss = 2.5885\n",
            "│       ├── Epoch N-1      = 2.5564 (\u001b[31m↗ 0.0321\u001b[0m)\n",
            "│       └── Best until now = 2.5173 (\u001b[31m↗ 0.0712\u001b[0m)\n",
            "└── Validation\n",
            "    ├── Ppyoloeloss/loss_cls = 4.6335\n",
            "    │   ├── Epoch N-1      = 5.9694 (\u001b[32m↘ -1.3359\u001b[0m)\n",
            "    │   └── Best until now = 2.5579 (\u001b[31m↗ 2.0756\u001b[0m)\n",
            "    ├── Ppyoloeloss/loss_iou = 0.7437\n",
            "    │   ├── Epoch N-1      = 0.5611 (\u001b[31m↗ 0.1826\u001b[0m)\n",
            "    │   └── Best until now = 0.3913 (\u001b[31m↗ 0.3524\u001b[0m)\n",
            "    ├── Ppyoloeloss/loss_dfl = 0.9224\n",
            "    │   ├── Epoch N-1      = 0.7755 (\u001b[31m↗ 0.1469\u001b[0m)\n",
            "    │   └── Best until now = 0.5877 (\u001b[31m↗ 0.3346\u001b[0m)\n",
            "    ├── Ppyoloeloss/loss = 6.2996\n",
            "    │   ├── Epoch N-1      = 7.306  (\u001b[32m↘ -1.0064\u001b[0m)\n",
            "    │   └── Best until now = 3.5369 (\u001b[31m↗ 2.7627\u001b[0m)\n",
            "    ├── Precision@0.50 = 0.0116\n",
            "    │   ├── Epoch N-1      = 0.0059 (\u001b[32m↗ 0.0057\u001b[0m)\n",
            "    │   └── Best until now = 0.0059 (\u001b[32m↗ 0.0057\u001b[0m)\n",
            "    ├── Recall@0.50 = 0.85\n",
            "    │   ├── Epoch N-1      = 0.9167 (\u001b[31m↘ -0.0667\u001b[0m)\n",
            "    │   └── Best until now = 0.9722 (\u001b[31m↘ -0.1222\u001b[0m)\n",
            "    ├── Map@0.50 = 0.1571\n",
            "    │   ├── Epoch N-1      = 0.3191 (\u001b[31m↘ -0.162\u001b[0m)\n",
            "    │   └── Best until now = 0.3191 (\u001b[31m↘ -0.162\u001b[0m)\n",
            "    └── F1@0.50 = 0.0225\n",
            "        ├── Epoch N-1      = 0.0117 (\u001b[32m↗ 0.0108\u001b[0m)\n",
            "        └── Best until now = 0.0117 (\u001b[32m↗ 0.0108\u001b[0m)\n",
            "\n",
            "===========================================================\n"
          ]
        },
        {
          "output_type": "stream",
          "name": "stderr",
          "text": [
            "Train epoch 5: 100%|██████████| 23/23 [00:35<00:00,  1.56s/it, PPYoloELoss/loss=2.5, PPYoloELoss/loss_cls=1.24, PPYoloELoss/loss_dfl=0.72, PPYoloELoss/loss_iou=0.544, gpu_mem=13.9]\n",
            "Validating epoch 5: 100%|██████████| 2/2 [00:01<00:00,  1.03it/s]\n"
          ]
        },
        {
          "output_type": "stream",
          "name": "stdout",
          "text": [
            "===========================================================\n",
            "SUMMARY OF EPOCH 5\n",
            "├── Train\n",
            "│   ├── Ppyoloeloss/loss_cls = 1.238\n",
            "│   │   ├── Epoch N-1      = 1.2569 (\u001b[32m↘ -0.0189\u001b[0m)\n",
            "│   │   └── Best until now = 1.2472 (\u001b[32m↘ -0.0092\u001b[0m)\n",
            "│   ├── Ppyoloeloss/loss_iou = 0.5436\n",
            "│   │   ├── Epoch N-1      = 0.5831 (\u001b[32m↘ -0.0395\u001b[0m)\n",
            "│   │   └── Best until now = 0.5104 (\u001b[31m↗ 0.0332\u001b[0m)\n",
            "│   ├── Ppyoloeloss/loss_dfl = 0.7202\n",
            "│   │   ├── Epoch N-1      = 0.7486 (\u001b[32m↘ -0.0283\u001b[0m)\n",
            "│   │   └── Best until now = 0.7009 (\u001b[31m↗ 0.0193\u001b[0m)\n",
            "│   └── Ppyoloeloss/loss = 2.5019\n",
            "│       ├── Epoch N-1      = 2.5885 (\u001b[32m↘ -0.0867\u001b[0m)\n",
            "│       └── Best until now = 2.5173 (\u001b[32m↘ -0.0154\u001b[0m)\n",
            "└── Validation\n",
            "    ├── Ppyoloeloss/loss_cls = 4.2581\n",
            "    │   ├── Epoch N-1      = 4.6335 (\u001b[32m↘ -0.3754\u001b[0m)\n",
            "    │   └── Best until now = 2.5579 (\u001b[31m↗ 1.7002\u001b[0m)\n",
            "    ├── Ppyoloeloss/loss_iou = 0.6255\n",
            "    │   ├── Epoch N-1      = 0.7437 (\u001b[32m↘ -0.1182\u001b[0m)\n",
            "    │   └── Best until now = 0.3913 (\u001b[31m↗ 0.2342\u001b[0m)\n",
            "    ├── Ppyoloeloss/loss_dfl = 0.8372\n",
            "    │   ├── Epoch N-1      = 0.9224 (\u001b[32m↘ -0.0851\u001b[0m)\n",
            "    │   └── Best until now = 0.5877 (\u001b[31m↗ 0.2495\u001b[0m)\n",
            "    ├── Ppyoloeloss/loss = 5.7208\n",
            "    │   ├── Epoch N-1      = 6.2996 (\u001b[32m↘ -0.5788\u001b[0m)\n",
            "    │   └── Best until now = 3.5369 (\u001b[31m↗ 2.1839\u001b[0m)\n",
            "    ├── Precision@0.50 = 0.0095\n",
            "    │   ├── Epoch N-1      = 0.0116 (\u001b[31m↘ -0.002\u001b[0m)\n",
            "    │   └── Best until now = 0.0116 (\u001b[31m↘ -0.002\u001b[0m)\n",
            "    ├── Recall@0.50 = 1.0\n",
            "    │   ├── Epoch N-1      = 0.85   (\u001b[32m↗ 0.15\u001b[0m)\n",
            "    │   └── Best until now = 0.9722 (\u001b[32m↗ 0.0278\u001b[0m)\n",
            "    ├── Map@0.50 = 0.288\n",
            "    │   ├── Epoch N-1      = 0.1571 (\u001b[32m↗ 0.1309\u001b[0m)\n",
            "    │   └── Best until now = 0.3191 (\u001b[31m↘ -0.0311\u001b[0m)\n",
            "    └── F1@0.50 = 0.0188\n",
            "        ├── Epoch N-1      = 0.0225 (\u001b[31m↘ -0.0037\u001b[0m)\n",
            "        └── Best until now = 0.0225 (\u001b[31m↘ -0.0037\u001b[0m)\n",
            "\n",
            "===========================================================\n"
          ]
        },
        {
          "output_type": "stream",
          "name": "stderr",
          "text": [
            "Train epoch 6: 100%|██████████| 23/23 [00:36<00:00,  1.57s/it, PPYoloELoss/loss=2.34, PPYoloELoss/loss_cls=1.17, PPYoloELoss/loss_dfl=0.668, PPYoloELoss/loss_iou=0.499, gpu_mem=13.9]\n",
            "Validating epoch 6: 100%|██████████| 2/2 [00:01<00:00,  1.07it/s]\n",
            "[2023-12-11 10:29:36] INFO - base_sg_logger.py - Checkpoint saved in checkpoints/my_first_yolonas_run/RUN_20231211_102050_690038/ckpt_best.pth\n",
            "[2023-12-11 10:29:36] INFO - sg_trainer.py - Best checkpoint overriden: validation mAP@0.50: 0.3192707598209381\n"
          ]
        },
        {
          "output_type": "stream",
          "name": "stdout",
          "text": [
            "===========================================================\n",
            "SUMMARY OF EPOCH 6\n",
            "├── Train\n",
            "│   ├── Ppyoloeloss/loss_cls = 1.1742\n",
            "│   │   ├── Epoch N-1      = 1.238  (\u001b[32m↘ -0.0638\u001b[0m)\n",
            "│   │   └── Best until now = 1.238  (\u001b[32m↘ -0.0638\u001b[0m)\n",
            "│   ├── Ppyoloeloss/loss_iou = 0.4987\n",
            "│   │   ├── Epoch N-1      = 0.5436 (\u001b[32m↘ -0.0449\u001b[0m)\n",
            "│   │   └── Best until now = 0.5104 (\u001b[32m↘ -0.0117\u001b[0m)\n",
            "│   ├── Ppyoloeloss/loss_dfl = 0.6683\n",
            "│   │   ├── Epoch N-1      = 0.7202 (\u001b[32m↘ -0.0519\u001b[0m)\n",
            "│   │   └── Best until now = 0.7009 (\u001b[32m↘ -0.0326\u001b[0m)\n",
            "│   └── Ppyoloeloss/loss = 2.3412\n",
            "│       ├── Epoch N-1      = 2.5019 (\u001b[32m↘ -0.1607\u001b[0m)\n",
            "│       └── Best until now = 2.5019 (\u001b[32m↘ -0.1607\u001b[0m)\n",
            "└── Validation\n",
            "    ├── Ppyoloeloss/loss_cls = 1.8072\n",
            "    │   ├── Epoch N-1      = 4.2581 (\u001b[32m↘ -2.4509\u001b[0m)\n",
            "    │   └── Best until now = 2.5579 (\u001b[32m↘ -0.7507\u001b[0m)\n",
            "    ├── Ppyoloeloss/loss_iou = 0.5412\n",
            "    │   ├── Epoch N-1      = 0.6255 (\u001b[32m↘ -0.0843\u001b[0m)\n",
            "    │   └── Best until now = 0.3913 (\u001b[31m↗ 0.1499\u001b[0m)\n",
            "    ├── Ppyoloeloss/loss_dfl = 0.6961\n",
            "    │   ├── Epoch N-1      = 0.8372 (\u001b[32m↘ -0.1412\u001b[0m)\n",
            "    │   └── Best until now = 0.5877 (\u001b[31m↗ 0.1084\u001b[0m)\n",
            "    ├── Ppyoloeloss/loss = 3.0445\n",
            "    │   ├── Epoch N-1      = 5.7208 (\u001b[32m↘ -2.6764\u001b[0m)\n",
            "    │   └── Best until now = 3.5369 (\u001b[32m↘ -0.4924\u001b[0m)\n",
            "    ├── Precision@0.50 = 0.0118\n",
            "    │   ├── Epoch N-1      = 0.0095 (\u001b[32m↗ 0.0022\u001b[0m)\n",
            "    │   └── Best until now = 0.0116 (\u001b[32m↗ 0.0002\u001b[0m)\n",
            "    ├── Recall@0.50 = 0.9333\n",
            "    │   ├── Epoch N-1      = 1.0    (\u001b[31m↘ -0.0667\u001b[0m)\n",
            "    │   └── Best until now = 1.0    (\u001b[31m↘ -0.0667\u001b[0m)\n",
            "    ├── Map@0.50 = 0.3193\n",
            "    │   ├── Epoch N-1      = 0.288  (\u001b[32m↗ 0.0313\u001b[0m)\n",
            "    │   └── Best until now = 0.3191 (\u001b[32m↗ 0.0002\u001b[0m)\n",
            "    └── F1@0.50 = 0.0232\n",
            "        ├── Epoch N-1      = 0.0188 (\u001b[32m↗ 0.0044\u001b[0m)\n",
            "        └── Best until now = 0.0225 (\u001b[32m↗ 0.0007\u001b[0m)\n",
            "\n",
            "===========================================================\n"
          ]
        },
        {
          "output_type": "stream",
          "name": "stderr",
          "text": [
            "Train epoch 7: 100%|██████████| 23/23 [00:35<00:00,  1.54s/it, PPYoloELoss/loss=2.28, PPYoloELoss/loss_cls=1.14, PPYoloELoss/loss_dfl=0.661, PPYoloELoss/loss_iou=0.48, gpu_mem=13.8]\n",
            "Validating epoch 7: 100%|██████████| 2/2 [00:01<00:00,  1.15it/s]\n",
            "[2023-12-11 10:31:26] INFO - base_sg_logger.py - Checkpoint saved in checkpoints/my_first_yolonas_run/RUN_20231211_102050_690038/ckpt_best.pth\n",
            "[2023-12-11 10:31:26] INFO - sg_trainer.py - Best checkpoint overriden: validation mAP@0.50: 0.37462249398231506\n"
          ]
        },
        {
          "output_type": "stream",
          "name": "stdout",
          "text": [
            "===========================================================\n",
            "SUMMARY OF EPOCH 7\n",
            "├── Train\n",
            "│   ├── Ppyoloeloss/loss_cls = 1.1397\n",
            "│   │   ├── Epoch N-1      = 1.1742 (\u001b[32m↘ -0.0345\u001b[0m)\n",
            "│   │   └── Best until now = 1.1742 (\u001b[32m↘ -0.0345\u001b[0m)\n",
            "│   ├── Ppyoloeloss/loss_iou = 0.4801\n",
            "│   │   ├── Epoch N-1      = 0.4987 (\u001b[32m↘ -0.0186\u001b[0m)\n",
            "│   │   └── Best until now = 0.4987 (\u001b[32m↘ -0.0186\u001b[0m)\n",
            "│   ├── Ppyoloeloss/loss_dfl = 0.6609\n",
            "│   │   ├── Epoch N-1      = 0.6683 (\u001b[32m↘ -0.0075\u001b[0m)\n",
            "│   │   └── Best until now = 0.6683 (\u001b[32m↘ -0.0075\u001b[0m)\n",
            "│   └── Ppyoloeloss/loss = 2.2807\n",
            "│       ├── Epoch N-1      = 2.3412 (\u001b[32m↘ -0.0605\u001b[0m)\n",
            "│       └── Best until now = 2.3412 (\u001b[32m↘ -0.0605\u001b[0m)\n",
            "└── Validation\n",
            "    ├── Ppyoloeloss/loss_cls = 1.4205\n",
            "    │   ├── Epoch N-1      = 1.8072 (\u001b[32m↘ -0.3867\u001b[0m)\n",
            "    │   └── Best until now = 1.8072 (\u001b[32m↘ -0.3867\u001b[0m)\n",
            "    ├── Ppyoloeloss/loss_iou = 0.4494\n",
            "    │   ├── Epoch N-1      = 0.5412 (\u001b[32m↘ -0.0918\u001b[0m)\n",
            "    │   └── Best until now = 0.3913 (\u001b[31m↗ 0.0581\u001b[0m)\n",
            "    ├── Ppyoloeloss/loss_dfl = 0.6123\n",
            "    │   ├── Epoch N-1      = 0.6961 (\u001b[32m↘ -0.0837\u001b[0m)\n",
            "    │   └── Best until now = 0.5877 (\u001b[31m↗ 0.0246\u001b[0m)\n",
            "    ├── Ppyoloeloss/loss = 2.4823\n",
            "    │   ├── Epoch N-1      = 3.0445 (\u001b[32m↘ -0.5622\u001b[0m)\n",
            "    │   └── Best until now = 3.0445 (\u001b[32m↘ -0.5622\u001b[0m)\n",
            "    ├── Precision@0.50 = 0.0224\n",
            "    │   ├── Epoch N-1      = 0.0118 (\u001b[32m↗ 0.0106\u001b[0m)\n",
            "    │   └── Best until now = 0.0118 (\u001b[32m↗ 0.0106\u001b[0m)\n",
            "    ├── Recall@0.50 = 0.9167\n",
            "    │   ├── Epoch N-1      = 0.9333 (\u001b[31m↘ -0.0167\u001b[0m)\n",
            "    │   └── Best until now = 1.0    (\u001b[31m↘ -0.0833\u001b[0m)\n",
            "    ├── Map@0.50 = 0.3746\n",
            "    │   ├── Epoch N-1      = 0.3193 (\u001b[32m↗ 0.0554\u001b[0m)\n",
            "    │   └── Best until now = 0.3193 (\u001b[32m↗ 0.0554\u001b[0m)\n",
            "    └── F1@0.50 = 0.0436\n",
            "        ├── Epoch N-1      = 0.0232 (\u001b[32m↗ 0.0204\u001b[0m)\n",
            "        └── Best until now = 0.0232 (\u001b[32m↗ 0.0204\u001b[0m)\n",
            "\n",
            "===========================================================\n"
          ]
        },
        {
          "output_type": "stream",
          "name": "stderr",
          "text": [
            "Train epoch 8: 100%|██████████| 23/23 [00:35<00:00,  1.53s/it, PPYoloELoss/loss=2.23, PPYoloELoss/loss_cls=1.12, PPYoloELoss/loss_dfl=0.648, PPYoloELoss/loss_iou=0.461, gpu_mem=13.9]\n",
            "Validating epoch 8: 100%|██████████| 2/2 [00:01<00:00,  1.14it/s]\n",
            "[2023-12-11 10:33:21] INFO - base_sg_logger.py - Checkpoint saved in checkpoints/my_first_yolonas_run/RUN_20231211_102050_690038/ckpt_best.pth\n",
            "[2023-12-11 10:33:21] INFO - sg_trainer.py - Best checkpoint overriden: validation mAP@0.50: 0.4355318248271942\n"
          ]
        },
        {
          "output_type": "stream",
          "name": "stdout",
          "text": [
            "===========================================================\n",
            "SUMMARY OF EPOCH 8\n",
            "├── Train\n",
            "│   ├── Ppyoloeloss/loss_cls = 1.1183\n",
            "│   │   ├── Epoch N-1      = 1.1397 (\u001b[32m↘ -0.0214\u001b[0m)\n",
            "│   │   └── Best until now = 1.1397 (\u001b[32m↘ -0.0214\u001b[0m)\n",
            "│   ├── Ppyoloeloss/loss_iou = 0.4606\n",
            "│   │   ├── Epoch N-1      = 0.4801 (\u001b[32m↘ -0.0195\u001b[0m)\n",
            "│   │   └── Best until now = 0.4801 (\u001b[32m↘ -0.0195\u001b[0m)\n",
            "│   ├── Ppyoloeloss/loss_dfl = 0.6476\n",
            "│   │   ├── Epoch N-1      = 0.6609 (\u001b[32m↘ -0.0133\u001b[0m)\n",
            "│   │   └── Best until now = 0.6609 (\u001b[32m↘ -0.0133\u001b[0m)\n",
            "│   └── Ppyoloeloss/loss = 2.2265\n",
            "│       ├── Epoch N-1      = 2.2807 (\u001b[32m↘ -0.0542\u001b[0m)\n",
            "│       └── Best until now = 2.2807 (\u001b[32m↘ -0.0542\u001b[0m)\n",
            "└── Validation\n",
            "    ├── Ppyoloeloss/loss_cls = 1.3082\n",
            "    │   ├── Epoch N-1      = 1.4205 (\u001b[32m↘ -0.1124\u001b[0m)\n",
            "    │   └── Best until now = 1.4205 (\u001b[32m↘ -0.1124\u001b[0m)\n",
            "    ├── Ppyoloeloss/loss_iou = 0.4602\n",
            "    │   ├── Epoch N-1      = 0.4494 (\u001b[31m↗ 0.0108\u001b[0m)\n",
            "    │   └── Best until now = 0.3913 (\u001b[31m↗ 0.0689\u001b[0m)\n",
            "    ├── Ppyoloeloss/loss_dfl = 0.6083\n",
            "    │   ├── Epoch N-1      = 0.6123 (\u001b[32m↘ -0.0041\u001b[0m)\n",
            "    │   └── Best until now = 0.5877 (\u001b[31m↗ 0.0205\u001b[0m)\n",
            "    ├── Ppyoloeloss/loss = 2.3766\n",
            "    │   ├── Epoch N-1      = 2.4823 (\u001b[32m↘ -0.1057\u001b[0m)\n",
            "    │   └── Best until now = 2.4823 (\u001b[32m↘ -0.1057\u001b[0m)\n",
            "    ├── Precision@0.50 = 0.0235\n",
            "    │   ├── Epoch N-1      = 0.0224 (\u001b[32m↗ 0.0011\u001b[0m)\n",
            "    │   └── Best until now = 0.0224 (\u001b[32m↗ 0.0011\u001b[0m)\n",
            "    ├── Recall@0.50 = 1.0\n",
            "    │   ├── Epoch N-1      = 0.9167 (\u001b[32m↗ 0.0833\u001b[0m)\n",
            "    │   └── Best until now = 1.0    (\u001b[37m= 0.0\u001b[0m)\n",
            "    ├── Map@0.50 = 0.4355\n",
            "    │   ├── Epoch N-1      = 0.3746 (\u001b[32m↗ 0.0609\u001b[0m)\n",
            "    │   └── Best until now = 0.3746 (\u001b[32m↗ 0.0609\u001b[0m)\n",
            "    └── F1@0.50 = 0.0459\n",
            "        ├── Epoch N-1      = 0.0436 (\u001b[32m↗ 0.0023\u001b[0m)\n",
            "        └── Best until now = 0.0436 (\u001b[32m↗ 0.0023\u001b[0m)\n",
            "\n",
            "===========================================================\n"
          ]
        },
        {
          "output_type": "stream",
          "name": "stderr",
          "text": [
            "Train epoch 9: 100%|██████████| 23/23 [00:36<00:00,  1.59s/it, PPYoloELoss/loss=2.12, PPYoloELoss/loss_cls=1.06, PPYoloELoss/loss_dfl=0.614, PPYoloELoss/loss_iou=0.441, gpu_mem=13.9]\n",
            "Validating epoch 9: 100%|██████████| 2/2 [00:01<00:00,  1.14it/s]\n",
            "[2023-12-11 10:35:47] INFO - base_sg_logger.py - Checkpoint saved in checkpoints/my_first_yolonas_run/RUN_20231211_102050_690038/ckpt_best.pth\n",
            "[2023-12-11 10:35:47] INFO - sg_trainer.py - Best checkpoint overriden: validation mAP@0.50: 0.5317127704620361\n"
          ]
        },
        {
          "output_type": "stream",
          "name": "stdout",
          "text": [
            "===========================================================\n",
            "SUMMARY OF EPOCH 9\n",
            "├── Train\n",
            "│   ├── Ppyoloeloss/loss_cls = 1.0627\n",
            "│   │   ├── Epoch N-1      = 1.1183 (\u001b[32m↘ -0.0556\u001b[0m)\n",
            "│   │   └── Best until now = 1.1183 (\u001b[32m↘ -0.0556\u001b[0m)\n",
            "│   ├── Ppyoloeloss/loss_iou = 0.441\n",
            "│   │   ├── Epoch N-1      = 0.4606 (\u001b[32m↘ -0.0196\u001b[0m)\n",
            "│   │   └── Best until now = 0.4606 (\u001b[32m↘ -0.0196\u001b[0m)\n",
            "│   ├── Ppyoloeloss/loss_dfl = 0.6141\n",
            "│   │   ├── Epoch N-1      = 0.6476 (\u001b[32m↘ -0.0335\u001b[0m)\n",
            "│   │   └── Best until now = 0.6476 (\u001b[32m↘ -0.0335\u001b[0m)\n",
            "│   └── Ppyoloeloss/loss = 2.1178\n",
            "│       ├── Epoch N-1      = 2.2265 (\u001b[32m↘ -0.1087\u001b[0m)\n",
            "│       └── Best until now = 2.2265 (\u001b[32m↘ -0.1087\u001b[0m)\n",
            "└── Validation\n",
            "    ├── Ppyoloeloss/loss_cls = 1.212\n",
            "    │   ├── Epoch N-1      = 1.3082 (\u001b[32m↘ -0.0961\u001b[0m)\n",
            "    │   └── Best until now = 1.3082 (\u001b[32m↘ -0.0961\u001b[0m)\n",
            "    ├── Ppyoloeloss/loss_iou = 0.3849\n",
            "    │   ├── Epoch N-1      = 0.4602 (\u001b[32m↘ -0.0752\u001b[0m)\n",
            "    │   └── Best until now = 0.3913 (\u001b[32m↘ -0.0063\u001b[0m)\n",
            "    ├── Ppyoloeloss/loss_dfl = 0.5376\n",
            "    │   ├── Epoch N-1      = 0.6083 (\u001b[32m↘ -0.0707\u001b[0m)\n",
            "    │   └── Best until now = 0.5877 (\u001b[32m↘ -0.0501\u001b[0m)\n",
            "    ├── Ppyoloeloss/loss = 2.1346\n",
            "    │   ├── Epoch N-1      = 2.3766 (\u001b[32m↘ -0.2421\u001b[0m)\n",
            "    │   └── Best until now = 2.3766 (\u001b[32m↘ -0.2421\u001b[0m)\n",
            "    ├── Precision@0.50 = 0.0253\n",
            "    │   ├── Epoch N-1      = 0.0235 (\u001b[32m↗ 0.0018\u001b[0m)\n",
            "    │   └── Best until now = 0.0235 (\u001b[32m↗ 0.0018\u001b[0m)\n",
            "    ├── Recall@0.50 = 1.0\n",
            "    │   ├── Epoch N-1      = 1.0    (\u001b[37m= 0.0\u001b[0m)\n",
            "    │   └── Best until now = 1.0    (\u001b[37m= 0.0\u001b[0m)\n",
            "    ├── Map@0.50 = 0.5317\n",
            "    │   ├── Epoch N-1      = 0.4355 (\u001b[32m↗ 0.0962\u001b[0m)\n",
            "    │   └── Best until now = 0.4355 (\u001b[32m↗ 0.0962\u001b[0m)\n",
            "    └── F1@0.50 = 0.0493\n",
            "        ├── Epoch N-1      = 0.0459 (\u001b[32m↗ 0.0034\u001b[0m)\n",
            "        └── Best until now = 0.0459 (\u001b[32m↗ 0.0034\u001b[0m)\n",
            "\n",
            "===========================================================\n"
          ]
        },
        {
          "output_type": "stream",
          "name": "stderr",
          "text": [
            "[2023-12-11 10:37:19] INFO - sg_trainer.py - RUNNING ADDITIONAL TEST ON THE AVERAGED MODEL...\n",
            "Validating epoch 10: 100%|██████████| 2/2 [00:02<00:00,  1.14s/it]\n"
          ]
        }
      ]
    },
    {
      "cell_type": "code",
      "source": [
        "best_model = models.get('yolo_nas_l',\n",
        "                        num_classes=len(dataset_params['classes']),\n",
        "                        checkpoint_path=\"/content/checkpoints/my_first_yolonas_run/RUN_20231211_102050_690038/ckpt_best.pth\")\n",
        "                        #checkpoint_path=\"checkpoints/my_first_yolonas_run/average_model.pth\")"
      ],
      "metadata": {
        "id": "8kthU6qMCcQ6",
        "colab": {
          "base_uri": "https://localhost:8080/",
          "height": 428
        },
        "outputId": "dcf2f07a-9ba3-4850-b7ef-a3b35a83cdaf"
      },
      "execution_count": 22,
      "outputs": [
        {
          "output_type": "stream",
          "name": "stderr",
          "text": [
            "[2024-02-23 06:20:30] INFO - base_sg_logger.py - [CLEANUP] - Successfully stopped system monitoring process\n",
            "/usr/local/lib/python3.10/dist-packages/ipykernel/ipkernel.py:283: DeprecationWarning: `should_run_async` will not call `transform_cell` automatically in the future. Please pass the result to `transformed_cell` argument and any exception that happen during thetransform in `preprocessing_exc_tuple` in IPython 7.17 and above.\n",
            "  and should_run_async(code)\n"
          ]
        },
        {
          "output_type": "error",
          "ename": "FileNotFoundError",
          "evalue": "Incorrect Checkpoint path: /content/checkpoints/my_first_yolonas_run/RUN_20231211_102050_690038/ckpt_best.pth (This should be an absolute path)",
          "traceback": [
            "\u001b[0;31m---------------------------------------------------------------------------\u001b[0m",
            "\u001b[0;31mFileNotFoundError\u001b[0m                         Traceback (most recent call last)",
            "\u001b[0;32m<ipython-input-22-f7ba81f8ddef>\u001b[0m in \u001b[0;36m<cell line: 1>\u001b[0;34m()\u001b[0m\n\u001b[0;32m----> 1\u001b[0;31m best_model = models.get('yolo_nas_l',\n\u001b[0m\u001b[1;32m      2\u001b[0m                         \u001b[0mnum_classes\u001b[0m\u001b[0;34m=\u001b[0m\u001b[0mlen\u001b[0m\u001b[0;34m(\u001b[0m\u001b[0mdataset_params\u001b[0m\u001b[0;34m[\u001b[0m\u001b[0;34m'classes'\u001b[0m\u001b[0;34m]\u001b[0m\u001b[0;34m)\u001b[0m\u001b[0;34m,\u001b[0m\u001b[0;34m\u001b[0m\u001b[0;34m\u001b[0m\u001b[0m\n\u001b[1;32m      3\u001b[0m                         checkpoint_path=\"/content/checkpoints/my_first_yolonas_run/RUN_20231211_102050_690038/ckpt_best.pth\")\n\u001b[1;32m      4\u001b[0m                         \u001b[0;31m#checkpoint_path=\"checkpoints/my_first_yolonas_run/average_model.pth\")\u001b[0m\u001b[0;34m\u001b[0m\u001b[0;34m\u001b[0m\u001b[0m\n",
            "\u001b[0;32m/usr/local/lib/python3.10/dist-packages/super_gradients/common/decorators/factory_decorator.py\u001b[0m in \u001b[0;36mwrapper\u001b[0;34m(*args, **kwargs)\u001b[0m\n\u001b[1;32m     34\u001b[0m                         \u001b[0mnew_value\u001b[0m \u001b[0;34m=\u001b[0m \u001b[0mfactory\u001b[0m\u001b[0;34m.\u001b[0m\u001b[0mget\u001b[0m\u001b[0;34m(\u001b[0m\u001b[0margs\u001b[0m\u001b[0;34m[\u001b[0m\u001b[0mindex\u001b[0m\u001b[0;34m]\u001b[0m\u001b[0;34m)\u001b[0m\u001b[0;34m\u001b[0m\u001b[0;34m\u001b[0m\u001b[0m\n\u001b[1;32m     35\u001b[0m                         \u001b[0margs\u001b[0m \u001b[0;34m=\u001b[0m \u001b[0m_assign_tuple\u001b[0m\u001b[0;34m(\u001b[0m\u001b[0margs\u001b[0m\u001b[0;34m,\u001b[0m \u001b[0mindex\u001b[0m\u001b[0;34m,\u001b[0m \u001b[0mnew_value\u001b[0m\u001b[0;34m)\u001b[0m\u001b[0;34m\u001b[0m\u001b[0;34m\u001b[0m\u001b[0m\n\u001b[0;32m---> 36\u001b[0;31m             \u001b[0;32mreturn\u001b[0m \u001b[0mfunc\u001b[0m\u001b[0;34m(\u001b[0m\u001b[0;34m*\u001b[0m\u001b[0margs\u001b[0m\u001b[0;34m,\u001b[0m \u001b[0;34m**\u001b[0m\u001b[0mkwargs\u001b[0m\u001b[0;34m)\u001b[0m\u001b[0;34m\u001b[0m\u001b[0;34m\u001b[0m\u001b[0m\n\u001b[0m\u001b[1;32m     37\u001b[0m \u001b[0;34m\u001b[0m\u001b[0m\n\u001b[1;32m     38\u001b[0m         \u001b[0;32mreturn\u001b[0m \u001b[0mwrapper\u001b[0m\u001b[0;34m\u001b[0m\u001b[0;34m\u001b[0m\u001b[0m\n",
            "\u001b[0;32m/usr/local/lib/python3.10/dist-packages/super_gradients/training/models/model_factory.py\u001b[0m in \u001b[0;36mget\u001b[0;34m(model_name, arch_params, num_classes, strict_load, checkpoint_path, pretrained_weights, load_backbone, download_required_code, checkpoint_num_classes, num_input_channels)\u001b[0m\n\u001b[1;32m    236\u001b[0m \u001b[0;34m\u001b[0m\u001b[0m\n\u001b[1;32m    237\u001b[0m     \u001b[0;32mif\u001b[0m \u001b[0mcheckpoint_path\u001b[0m\u001b[0;34m:\u001b[0m\u001b[0;34m\u001b[0m\u001b[0;34m\u001b[0m\u001b[0m\n\u001b[0;32m--> 238\u001b[0;31m         \u001b[0mckpt_entries\u001b[0m \u001b[0;34m=\u001b[0m \u001b[0mread_ckpt_state_dict\u001b[0m\u001b[0;34m(\u001b[0m\u001b[0mckpt_path\u001b[0m\u001b[0;34m=\u001b[0m\u001b[0mcheckpoint_path\u001b[0m\u001b[0;34m)\u001b[0m\u001b[0;34m.\u001b[0m\u001b[0mkeys\u001b[0m\u001b[0;34m(\u001b[0m\u001b[0;34m)\u001b[0m\u001b[0;34m\u001b[0m\u001b[0;34m\u001b[0m\u001b[0m\n\u001b[0m\u001b[1;32m    239\u001b[0m         \u001b[0mload_processing\u001b[0m \u001b[0;34m=\u001b[0m \u001b[0;34m\"processing_params\"\u001b[0m \u001b[0;32min\u001b[0m \u001b[0mckpt_entries\u001b[0m\u001b[0;34m\u001b[0m\u001b[0;34m\u001b[0m\u001b[0m\n\u001b[1;32m    240\u001b[0m         \u001b[0mload_ema_as_net\u001b[0m \u001b[0;34m=\u001b[0m \u001b[0;34m\"ema_net\"\u001b[0m \u001b[0;32min\u001b[0m \u001b[0mckpt_entries\u001b[0m\u001b[0;34m\u001b[0m\u001b[0;34m\u001b[0m\u001b[0m\n",
            "\u001b[0;32m/usr/local/lib/python3.10/dist-packages/super_gradients/training/utils/checkpoint_utils.py\u001b[0m in \u001b[0;36mread_ckpt_state_dict\u001b[0;34m(ckpt_path, device)\u001b[0m\n\u001b[1;32m    183\u001b[0m     \u001b[0;32melse\u001b[0m\u001b[0;34m:\u001b[0m\u001b[0;34m\u001b[0m\u001b[0;34m\u001b[0m\u001b[0m\n\u001b[1;32m    184\u001b[0m         \u001b[0;32mif\u001b[0m \u001b[0;32mnot\u001b[0m \u001b[0mos\u001b[0m\u001b[0;34m.\u001b[0m\u001b[0mpath\u001b[0m\u001b[0;34m.\u001b[0m\u001b[0mexists\u001b[0m\u001b[0;34m(\u001b[0m\u001b[0mckpt_path\u001b[0m\u001b[0;34m)\u001b[0m\u001b[0;34m:\u001b[0m\u001b[0;34m\u001b[0m\u001b[0;34m\u001b[0m\u001b[0m\n\u001b[0;32m--> 185\u001b[0;31m             \u001b[0;32mraise\u001b[0m \u001b[0mFileNotFoundError\u001b[0m\u001b[0;34m(\u001b[0m\u001b[0;34mf\"Incorrect Checkpoint path: {ckpt_path} (This should be an absolute path)\"\u001b[0m\u001b[0;34m)\u001b[0m\u001b[0;34m\u001b[0m\u001b[0;34m\u001b[0m\u001b[0m\n\u001b[0m\u001b[1;32m    186\u001b[0m \u001b[0;34m\u001b[0m\u001b[0m\n\u001b[1;32m    187\u001b[0m         \u001b[0mstate_dict\u001b[0m \u001b[0;34m=\u001b[0m \u001b[0mtorch\u001b[0m\u001b[0;34m.\u001b[0m\u001b[0mload\u001b[0m\u001b[0;34m(\u001b[0m\u001b[0mckpt_path\u001b[0m\u001b[0;34m,\u001b[0m \u001b[0mmap_location\u001b[0m\u001b[0;34m=\u001b[0m\u001b[0mdevice\u001b[0m\u001b[0;34m)\u001b[0m\u001b[0;34m\u001b[0m\u001b[0;34m\u001b[0m\u001b[0m\n",
            "\u001b[0;31mFileNotFoundError\u001b[0m: Incorrect Checkpoint path: /content/checkpoints/my_first_yolonas_run/RUN_20231211_102050_690038/ckpt_best.pth (This should be an absolute path)"
          ]
        }
      ]
    },
    {
      "cell_type": "code",
      "source": [
        "trainer.test(model=best_model,\n",
        "            test_loader=test_data,\n",
        "            test_metrics_list=DetectionMetrics_050(score_thres=0.1,\n",
        "                                                   top_k_predictions=300,\n",
        "                                                   num_cls=len(dataset_params['classes']),\n",
        "                                                   normalize_targets=True,\n",
        "                                                   post_prediction_callback=PPYoloEPostPredictionCallback(score_threshold=0.01,\n",
        "                                                                                                          nms_top_k=1000,\n",
        "                                                                                                          max_predictions=300,\n",
        "                                                                                                          nms_threshold=0.7)\n",
        "                                                  ))"
      ],
      "metadata": {
        "id": "kvnWnpU_Cu5w",
        "colab": {
          "base_uri": "https://localhost:8080/"
        },
        "outputId": "d908a44d-512c-4ffc-e15c-f6b9186cdb68"
      },
      "execution_count": null,
      "outputs": [
        {
          "output_type": "stream",
          "name": "stderr",
          "text": [
            "Testing: 100%|██████████| 6/6 [00:05<00:00,  1.46it/s]"
          ]
        },
        {
          "output_type": "execute_result",
          "data": {
            "text/plain": [
              "{'PPYoloELoss/loss_cls': 1.0830462,\n",
              " 'PPYoloELoss/loss_iou': 0.35310233,\n",
              " 'PPYoloELoss/loss_dfl': 0.57690215,\n",
              " 'PPYoloELoss/loss': 2.0130506,\n",
              " 'Precision@0.50': 0.023813994601368904,\n",
              " 'Recall@0.50': 0.9777777791023254,\n",
              " 'mAP@0.50': 0.7984395027160645,\n",
              " 'F1@0.50': 0.04639395698904991}"
            ]
          },
          "metadata": {},
          "execution_count": 56
        }
      ]
    },
    {
      "cell_type": "code",
      "source": [
        "import torch\n",
        "device = 0 if torch.cuda.is_available() else \"cpu\"\n",
        "\n",
        "input_video_path = \"fall_detection_1.mp4\"\n",
        "output_video_path = \"detections11.mp4\"\n",
        "#device=0\n",
        "\n",
        "best_model.to(device).predict(input_video_path).save(output_video_path)"
      ],
      "metadata": {
        "id": "BLz8aD26C4ic",
        "colab": {
          "base_uri": "https://localhost:8080/"
        },
        "outputId": "9e6b1f8f-d829-4572-ff82-100ccaa9329d"
      },
      "execution_count": null,
      "outputs": [
        {
          "output_type": "stream",
          "name": "stderr",
          "text": [
            "Processing Video:   0%|          | 0/180 [00:00<?, ?it/s][2023-12-11 10:38:12] INFO - pipelines.py - Fusing some of the model's layers. If this takes too much memory, you can deactivate it by setting `fuse_model=False`\n",
            "/usr/local/lib/python3.10/dist-packages/super_gradients/training/utils/visualization/utils.py:67: MatplotlibDeprecationWarning: The get_cmap function was deprecated in Matplotlib 3.7 and will be removed two minor releases later. Use ``matplotlib.colormaps[name]`` or ``matplotlib.colormaps.get_cmap(obj)`` instead.\n",
            "  cmap = plt.cm.get_cmap(\"gist_rainbow\", num_classes)\n",
            "Processing Video:  72%|███████▏  | 129/180 [00:03<00:01, 39.16it/s]"
          ]
        }
      ]
    },
    {
      "cell_type": "code",
      "source": [
        "test_image = 'fall104.jpg'\n",
        "best_model.predict(test_image).show()"
      ],
      "metadata": {
        "id": "KmSmhNyIQqak"
      },
      "execution_count": null,
      "outputs": []
    }
  ]
}